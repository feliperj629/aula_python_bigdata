{
  "nbformat": 4,
  "nbformat_minor": 0,
  "metadata": {
    "colab": {
      "provenance": []
    },
    "kernelspec": {
      "name": "python3",
      "display_name": "Python 3"
    },
    "language_info": {
      "name": "python"
    }
  },
  "cells": [
    {
      "cell_type": "markdown",
      "source": [
        "Exercício 1 — Análise de Array NumPy\n",
        "\n",
        "Você recebeu um array NumPy com os valores de temperatura (em °C) registrados ao longo de uma semana:\n",
        "\n",
        "\n",
        "\n",
        "1.   Calcule a temperatura média da semana.\n",
        "2.   Encontre a temperatura mais alta e a mais baixa.\n",
        "3.   Quantos dias ficaram acima da média?"
      ],
      "metadata": {
        "id": "RayTeZhiTvV5"
      }
    },
    {
      "cell_type": "code",
      "execution_count": null,
      "metadata": {
        "id": "Mq2vmr_ATucV"
      },
      "outputs": [],
      "source": [
        "import numpy as np\n",
        "\n",
        "temperaturas = np.array([22.5, 23.0, 19.5, 21.0, 25.2, 26.3, 24.5])"
      ]
    },
    {
      "cell_type": "code",
      "source": [
        "#Crie seu código do exercício 1 aqui."
      ],
      "metadata": {
        "id": "d1nh7LU6b4H8"
      },
      "execution_count": null,
      "outputs": []
    },
    {
      "cell_type": "markdown",
      "source": [
        "Exercício 2 — Manipulando um DataFrame\n",
        "\n",
        "Crie um DataFrame com os dados de 5 alunos, contendo as colunas: nome, nota_prova1, nota_prova2.\n",
        "\n",
        "Depois:\n",
        "\n",
        "1. Calcule a média de cada aluno.\n",
        "\n",
        "2. Adicione uma nova coluna chamada aprovado, considerando média >= 7.\n",
        "\n",
        "3. Mostre apenas os alunos aprovados."
      ],
      "metadata": {
        "id": "RIb05c1eUPwz"
      }
    },
    {
      "cell_type": "code",
      "source": [
        "#Crie seu código do exercício 2 aqui."
      ],
      "metadata": {
        "id": "cH8GZ3AgUa2m"
      },
      "execution_count": null,
      "outputs": []
    },
    {
      "cell_type": "markdown",
      "source": [
        "Exercício 3 — Estatísticas com\n",
        "\n",
        "Você tem um DataFrame com dados de vendas:\n",
        "\n",
        "1. Calcule o total de vendas por produto.\n",
        "\n",
        "2. Qual foi o produto com maior valor médio de venda?\n",
        "\n",
        "3. Adicione uma coluna com o valor acumulado (cumulativo) por linha.\n"
      ],
      "metadata": {
        "id": "CZqQuZQsUelO"
      }
    },
    {
      "cell_type": "code",
      "source": [
        "#DataFrame com dados de vendas\n",
        "dados = {\n",
        "    'produto': ['A', 'B', 'A', 'C', 'B', 'A', 'C'],\n",
        "    'valor': [100, 200, 150, 300, 250, 120, 280]\n",
        "}\n"
      ],
      "metadata": {
        "id": "x_V5IG5eVO6I"
      },
      "execution_count": null,
      "outputs": []
    },
    {
      "cell_type": "code",
      "source": [
        "#Crie seu código do exercício 3 aqui."
      ],
      "metadata": {
        "id": "O0JcHEoQcD4G"
      },
      "execution_count": null,
      "outputs": []
    },
    {
      "cell_type": "markdown",
      "source": [
        "Exercício 4 — Gráfico de Barras com Pandas e Matplotlib\n",
        "\n",
        "Você recebeu os seguintes dados de vendas mensais de uma loja:\n",
        "\n",
        "1. Crie um gráfico de barras para exibir as vendas por mês.\n",
        "\n",
        "2. Adicione título, rótulos nos eixos e mude a cor das barras para azul.\n",
        "\n",
        "3. Salve o gráfico como imagem (vendas.png)."
      ],
      "metadata": {
        "id": "tbTpXkfMVonW"
      }
    },
    {
      "cell_type": "code",
      "source": [
        "import pandas as pd\n",
        "#dados de vendas mensais de uma loja\n",
        "dados = {\n",
        "    'mes': ['Jan', 'Fev', 'Mar', 'Abr', 'Mai', 'Jun'],\n",
        "    'vendas': [1200, 1500, 1700, 1600, 1800, 2000]\n",
        "}\n",
        "\n",
        "df = pd.DataFrame(dados)\n"
      ],
      "metadata": {
        "id": "rOxL_lptVxWg"
      },
      "execution_count": null,
      "outputs": []
    },
    {
      "cell_type": "code",
      "source": [
        "#Crie seu código do exercício 4 aqui."
      ],
      "metadata": {
        "id": "k-joFcXicKBv"
      },
      "execution_count": null,
      "outputs": []
    },
    {
      "cell_type": "markdown",
      "source": [
        "Exercício 5 — Salvando Aprovados em um Arquivo .txt\n",
        "\n",
        "1. Crie dados de 10 alunos e suas notas em **três avaliações** da disciplina de Programação Python.\n",
        "\n",
        "2. Calcule a **média das três notas** para cada aluno.\n",
        "\n",
        "3. Filtre os alunos com **média maior que 8**.\n",
        "\n",
        "4. Salve os nomes dos aprovados em um arquivo chamado aprovados.txt, um nome por linha. Ao lado do nome coloca a seguinte mensagem: \"Parabéns, você foi aprovado em Python.\"\n",
        "\n",
        "5. Leia o arquivo aprovados.txt e mostre os nomes dos aprovados com a mensagem.\n"
      ],
      "metadata": {
        "id": "ONBxkr9bcN44"
      }
    },
    {
      "cell_type": "code",
      "source": [
        "#Crie seu código do exercício 5 aqui."
      ],
      "metadata": {
        "id": "FUwQfdKlcSIs"
      },
      "execution_count": null,
      "outputs": []
    }
  ]
}