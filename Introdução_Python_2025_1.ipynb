{
  "nbformat": 4,
  "nbformat_minor": 0,
  "metadata": {
    "colab": {
      "provenance": []
    },
    "kernelspec": {
      "name": "python3",
      "display_name": "Python 3"
    },
    "language_info": {
      "name": "python"
    }
  },
  "cells": [
    {
      "cell_type": "markdown",
      "source": [
        "Python é uma linguagem de programação de alto nível, interpretada e de propósito geral.\n",
        "Fácil de aprender e possui uma sintaxe clara e objetiva."
      ],
      "metadata": {
        "id": "_v-SITt5Jx06"
      }
    },
    {
      "cell_type": "markdown",
      "source": [
        "Primeiro programa em Python"
      ],
      "metadata": {
        "id": "9yGhPDZQJ2ww"
      }
    },
    {
      "cell_type": "code",
      "source": [
        "print(\"Hello, World!\")"
      ],
      "metadata": {
        "colab": {
          "base_uri": "https://localhost:8080/"
        },
        "id": "5W3C1LVcJ3f7",
        "outputId": "818a4980-12d9-49bb-8980-2151de8bc759"
      },
      "execution_count": null,
      "outputs": [
        {
          "output_type": "stream",
          "name": "stdout",
          "text": [
            "Hello, World!\n"
          ]
        }
      ]
    },
    {
      "cell_type": "markdown",
      "source": [
        "Variáveis e Tipos de Dados"
      ],
      "metadata": {
        "id": "63FcqVbDJ6U6"
      }
    },
    {
      "cell_type": "code",
      "source": [
        "nome = \"João\"  # String\n",
        "idade = 25  # Inteiro\n",
        "altura = 1.75  # Float\n",
        "ativo = True  # Booleano"
      ],
      "metadata": {
        "id": "nHsCGh8JJ8ry"
      },
      "execution_count": null,
      "outputs": []
    },
    {
      "cell_type": "markdown",
      "source": [
        "Entrada de Dados"
      ],
      "metadata": {
        "id": "GjjNOEY9J9Bc"
      }
    },
    {
      "cell_type": "code",
      "source": [
        "nome = input(\"Digite seu nome: \")\n",
        "print(\"Olá,\", nome)"
      ],
      "metadata": {
        "id": "gy7c1zCHJ9J4"
      },
      "execution_count": null,
      "outputs": []
    },
    {
      "cell_type": "markdown",
      "source": [
        "Operadores Matemáticos"
      ],
      "metadata": {
        "id": "Gkgw6Hu2J9h8"
      }
    },
    {
      "cell_type": "code",
      "source": [
        "soma = 5 + 3\n",
        "subtracao = 10 - 2\n",
        "multiplicacao = 4 * 3\n",
        "divisao = 15 / 5\n",
        "exponenciacao = 2 ** 3\n",
        "print(soma, subtracao, multiplicacao, divisao, exponenciacao)"
      ],
      "metadata": {
        "id": "AHFUb-xVJ9q3"
      },
      "execution_count": null,
      "outputs": []
    },
    {
      "cell_type": "markdown",
      "source": [
        "Estruturas Condicionais"
      ],
      "metadata": {
        "id": "u0ONJB1XJ94r"
      }
    },
    {
      "cell_type": "code",
      "source": [
        "idade = int(input(\"Digite sua idade: \"))\n",
        "if idade >= 18:\n",
        "    print(\"Você é maior de idade.\")\n",
        "else:\n",
        "    print(\"Você é menor de idade.\")"
      ],
      "metadata": {
        "id": "N7Rl6SroJ9-k"
      },
      "execution_count": null,
      "outputs": []
    },
    {
      "cell_type": "markdown",
      "source": [
        "Loop For"
      ],
      "metadata": {
        "id": "uVJrVcQRJ-D4"
      }
    },
    {
      "cell_type": "code",
      "source": [
        "for i in range(5):\n",
        "    print(\"Iteração:\", i)"
      ],
      "metadata": {
        "id": "ZdP9fXZNJ-Js"
      },
      "execution_count": null,
      "outputs": []
    },
    {
      "cell_type": "markdown",
      "source": [
        "Loop While"
      ],
      "metadata": {
        "id": "7WhbvBtlJ-ST"
      }
    },
    {
      "cell_type": "code",
      "source": [
        "contador = 0\n",
        "while contador < 5:\n",
        "    print(\"Contagem:\", contador)\n",
        "    contador += 1"
      ],
      "metadata": {
        "id": "6ntutWwUJ-X0"
      },
      "execution_count": null,
      "outputs": []
    },
    {
      "cell_type": "markdown",
      "source": [
        "Listas"
      ],
      "metadata": {
        "id": "ufvJiZACJ-dQ"
      }
    },
    {
      "cell_type": "code",
      "source": [
        "frutas = [\"maçã\", \"banana\", \"uva\"]\n",
        "print(frutas[0])"
      ],
      "metadata": {
        "colab": {
          "base_uri": "https://localhost:8080/"
        },
        "id": "gW-S6jE9J-iq",
        "outputId": "95c22c91-08e9-4ea1-9c79-4a3b5ee59320"
      },
      "execution_count": null,
      "outputs": [
        {
          "output_type": "stream",
          "name": "stdout",
          "text": [
            "maçã\n"
          ]
        }
      ]
    },
    {
      "cell_type": "markdown",
      "source": [
        "Tuplas"
      ],
      "metadata": {
        "id": "8fzwo2nzJ-oM"
      }
    },
    {
      "cell_type": "code",
      "source": [
        "tupla = (10, 20, 30)\n",
        "print(tupla[1])"
      ],
      "metadata": {
        "id": "3XpHid5dJ-tO"
      },
      "execution_count": null,
      "outputs": []
    },
    {
      "cell_type": "markdown",
      "source": [
        "Dicionários"
      ],
      "metadata": {
        "id": "akCZrw0EKdo0"
      }
    },
    {
      "cell_type": "code",
      "source": [
        "pessoa = {\"nome\": \"Carlos\", \"idade\": 30}\n",
        "print(pessoa[\"nome\"])"
      ],
      "metadata": {
        "id": "09QglfLyKdxE"
      },
      "execution_count": null,
      "outputs": []
    },
    {
      "cell_type": "markdown",
      "source": [
        "Conjuntos (Set)"
      ],
      "metadata": {
        "id": "CqQxo3XjKd4K"
      }
    },
    {
      "cell_type": "code",
      "source": [
        "numeros = {1, 2, 3, 4, 4}\n",
        "print(numeros)\n"
      ],
      "metadata": {
        "id": "LlHAJ2hjKd-p"
      },
      "execution_count": null,
      "outputs": []
    },
    {
      "cell_type": "markdown",
      "source": [
        "Funções"
      ],
      "metadata": {
        "id": "pugPQmtGKeEo"
      }
    },
    {
      "cell_type": "code",
      "source": [
        "def saudacao(nome):\n",
        "    return f\"Olá, {nome}!\"\n",
        "\n",
        "print(saudacao(\"Maria\"))"
      ],
      "metadata": {
        "colab": {
          "base_uri": "https://localhost:8080/"
        },
        "id": "RcWjEDzhKeKH",
        "outputId": "14d4ecf9-85e4-4ecf-eb69-e21fb91ba781"
      },
      "execution_count": null,
      "outputs": [
        {
          "output_type": "stream",
          "name": "stdout",
          "text": [
            "Olá, Maria!\n"
          ]
        }
      ]
    },
    {
      "cell_type": "markdown",
      "source": [
        "Manipulação de Strings"
      ],
      "metadata": {
        "id": "rNRCtHfkKeP4"
      }
    },
    {
      "cell_type": "code",
      "source": [
        "texto = \"Python é incrível!\"\n",
        "print(texto.upper())\n",
        "print(texto.lower())\n",
        "print(texto.replace(\"Python\", \"Programar\"))"
      ],
      "metadata": {
        "id": "xyTNuxKBKeVg"
      },
      "execution_count": null,
      "outputs": []
    },
    {
      "cell_type": "markdown",
      "source": [
        "Manipulação de Listas"
      ],
      "metadata": {
        "id": "Bs90J17jKeZ0"
      }
    },
    {
      "cell_type": "code",
      "source": [
        "frutas.append(\"laranja\")\n",
        "frutas.remove(\"banana\")\n",
        "print(frutas)"
      ],
      "metadata": {
        "colab": {
          "base_uri": "https://localhost:8080/"
        },
        "id": "JarlqDHfKeei",
        "outputId": "ad10eb9d-c616-4c1b-e655-71232f2ecf91"
      },
      "execution_count": null,
      "outputs": [
        {
          "output_type": "stream",
          "name": "stdout",
          "text": [
            "['maçã', 'uva', 'laranja']\n"
          ]
        }
      ]
    },
    {
      "cell_type": "markdown",
      "source": [
        "Fatiamento de Listas"
      ],
      "metadata": {
        "id": "PKlpM3hPKelz"
      }
    },
    {
      "cell_type": "code",
      "source": [
        "numeros = [0, 1, 2, 3, 4, 5]\n",
        "print(numeros[1:4])  # Saída: [1, 2, 3]"
      ],
      "metadata": {
        "colab": {
          "base_uri": "https://localhost:8080/"
        },
        "id": "J1lG74p6Keq6",
        "outputId": "e1eb4ed9-33e6-496f-92e9-bcafcf1e7e5a"
      },
      "execution_count": null,
      "outputs": [
        {
          "output_type": "stream",
          "name": "stdout",
          "text": [
            "[1, 2, 3]\n"
          ]
        }
      ]
    },
    {
      "cell_type": "markdown",
      "source": [
        "Ordenação de Listas"
      ],
      "metadata": {
        "id": "o8Z1TsLfLDj3"
      }
    },
    {
      "cell_type": "code",
      "source": [
        "numeros = [3, 1, 4, 2]\n",
        "numeros.sort()\n",
        "print(numeros)"
      ],
      "metadata": {
        "id": "yKWpcCdmLDsm"
      },
      "execution_count": null,
      "outputs": []
    },
    {
      "cell_type": "markdown",
      "source": [
        "List Comprehension\n",
        "\n",
        "List comprehension é uma construção sintática do Python que permite criar uma nova lista a partir de outra lista. É uma forma rápida e eficiente de construir listas, que simplifica o código e reduz a necessidade de loops explícitos.\n",
        "\n",
        "Como funciona:\n",
        "\n",
        "Para cada valor de uma lista, aplica-se uma operação e coloca-se todos os resultados em uma nova lista Combina a iteração e a expressão de seleção em uma única linha Filtra e transforma elementos de uma sequência com facilidade\n",
        "\n",
        "\n",
        "Vantagens:\n",
        "\n",
        "Torna o código mais curto e fácil de ler\n",
        "Geralmente, as listas de compreensão são mais rápidas do que loops tradicionais\n",
        "Menos linhas de código significam menos espaço para erros e mais clareza na lógica\n",
        "\n",
        "Estrutura:\n",
        "\n",
        "Expression: A expressão que define o que cada elemento da nova lista será\n",
        "For: Um loop for que itera sobre cada item em um iterável\n",
        "Item in iterable: O iterável sobre o qual o loop for é executado"
      ],
      "metadata": {
        "id": "eoUCmdaULD01"
      }
    },
    {
      "cell_type": "code",
      "source": [
        "quadrados = [x**2 for x in range(10)]\n",
        "print(quadrados)"
      ],
      "metadata": {
        "colab": {
          "base_uri": "https://localhost:8080/"
        },
        "id": "hD5i9meILD6l",
        "outputId": "c41161bb-c222-42b1-e716-4df662addfb9"
      },
      "execution_count": null,
      "outputs": [
        {
          "output_type": "stream",
          "name": "stdout",
          "text": [
            "[0, 1, 4, 9, 16, 25, 36, 49, 64, 81]\n"
          ]
        }
      ]
    },
    {
      "cell_type": "markdown",
      "source": [
        "Iterando em Dicionários"
      ],
      "metadata": {
        "id": "MsexDz0tLEAH"
      }
    },
    {
      "cell_type": "code",
      "source": [
        "for chave, valor in pessoa.items():\n",
        "    print(chave, \":\", valor)"
      ],
      "metadata": {
        "id": "OhabFANwLEIF"
      },
      "execution_count": null,
      "outputs": []
    },
    {
      "cell_type": "markdown",
      "source": [
        "Função com Valor Padrão"
      ],
      "metadata": {
        "id": "OXA6XbuVLENz"
      }
    },
    {
      "cell_type": "code",
      "source": [
        "def saudacao(nome=\"Visitante\"):\n",
        "    print(f\"Olá, {nome}!\")\n",
        "saudacao()"
      ],
      "metadata": {
        "id": "xTNjTKOzLEUY"
      },
      "execution_count": null,
      "outputs": []
    },
    {
      "cell_type": "markdown",
      "source": [
        "Funções Lambda\n",
        "\n",
        "\n",
        "Em Python, uma função lambda é uma função anônima, ou seja, sem um nome definido, que é escrita em uma única expressão. São úteis para operações curtas, temporárias ou em linha."
      ],
      "metadata": {
        "id": "6eSdBPUpLEbK"
      }
    },
    {
      "cell_type": "code",
      "source": [
        "dobro = lambda x: x * 2\n",
        "print(dobro(5))  # Saída: 10"
      ],
      "metadata": {
        "id": "H0CPNz3ULEgx"
      },
      "execution_count": null,
      "outputs": []
    },
    {
      "cell_type": "markdown",
      "source": [
        "Try/Except para Erros"
      ],
      "metadata": {
        "id": "a9awVODaLEno"
      }
    },
    {
      "cell_type": "code",
      "source": [
        "try:\n",
        "    print(10 / 0)\n",
        "except ZeroDivisionError:\n",
        "    print(\"Erro: divisão por zero!\")"
      ],
      "metadata": {
        "colab": {
          "base_uri": "https://localhost:8080/"
        },
        "id": "FUHO_KpnLEr4",
        "outputId": "a26e38a9-cc94-4643-a207-09f9ec73aa8a"
      },
      "execution_count": null,
      "outputs": [
        {
          "output_type": "stream",
          "name": "stdout",
          "text": [
            "Erro: divisão por zero!\n"
          ]
        }
      ]
    },
    {
      "cell_type": "markdown",
      "source": [
        "Manipulação de Arquivos\n"
      ],
      "metadata": {
        "id": "T9zx2VvBMvVN"
      }
    },
    {
      "cell_type": "code",
      "source": [
        "with open(\"arquivo.txt\", \"w\") as f:\n",
        "    f.write(\"Olá, Python!\")"
      ],
      "metadata": {
        "id": "8IZF05mQMvcH"
      },
      "execution_count": null,
      "outputs": []
    },
    {
      "cell_type": "markdown",
      "source": [
        "Leitura de Arquivos"
      ],
      "metadata": {
        "id": "zxUL4GM-Mvnb"
      }
    },
    {
      "cell_type": "code",
      "source": [
        "with open(\"arquivo.txt\", \"r\") as f:\n",
        "    print(f.read())\n"
      ],
      "metadata": {
        "id": "N9xqKdSjMvs9"
      },
      "execution_count": null,
      "outputs": []
    },
    {
      "cell_type": "markdown",
      "source": [
        "Módulos em Python"
      ],
      "metadata": {
        "id": "KoxxMJd0MvzG"
      }
    },
    {
      "cell_type": "code",
      "source": [
        "\n",
        "import math\n",
        "print(math.sqrt(16))  # Saída: 4.0\n",
        "\n",
        "#A função Math.sqrt() calcula a raiz quadrada de um número."
      ],
      "metadata": {
        "colab": {
          "base_uri": "https://localhost:8080/"
        },
        "id": "truVVkZZMv4d",
        "outputId": "be3052b8-0e67-459b-a48e-4a106f2e5353"
      },
      "execution_count": null,
      "outputs": [
        {
          "output_type": "stream",
          "name": "stdout",
          "text": [
            "4.0\n"
          ]
        }
      ]
    },
    {
      "cell_type": "markdown",
      "source": [
        "Classes e Objetos"
      ],
      "metadata": {
        "id": "Rylv12VoMv-I"
      }
    },
    {
      "cell_type": "code",
      "source": [
        "class Pessoa:\n",
        "    def __init__(self, nome):\n",
        "        self.nome = nome\n",
        "p = Pessoa(\"Ana\")\n",
        "print(p.nome)"
      ],
      "metadata": {
        "id": "oGwc2eXDMwDR"
      },
      "execution_count": null,
      "outputs": []
    },
    {
      "cell_type": "markdown",
      "source": [
        "Herança em Classes"
      ],
      "metadata": {
        "id": "08k6SycaMwH9"
      }
    },
    {
      "cell_type": "code",
      "source": [
        "class Animal:\n",
        "    def som(self):\n",
        "        pass\n",
        "class Cachorro(Animal):\n",
        "    def som(self):\n",
        "        return \"Latido\"\n",
        "c = Cachorro()\n",
        "print(c.som())"
      ],
      "metadata": {
        "colab": {
          "base_uri": "https://localhost:8080/"
        },
        "id": "okPMsY89MwNy",
        "outputId": "03174c9e-ec0a-4d4b-c522-555c2e3e549a"
      },
      "execution_count": null,
      "outputs": [
        {
          "output_type": "stream",
          "name": "stdout",
          "text": [
            "Latido\n"
          ]
        }
      ]
    },
    {
      "cell_type": "markdown",
      "source": [
        "Biblioteca NumPy\n",
        "\n",
        "o pacote NumPy, denominado dessa forma devido a abreviação de Numerical Python (Python Numérico), é uma biblioteca de código aberto destinada a realizar operações em arrays multidimensionais, amigavelmente denominada como ndarray nesta biblioteca."
      ],
      "metadata": {
        "id": "a66NibWcMwT5"
      }
    },
    {
      "cell_type": "code",
      "source": [
        "import numpy as np\n",
        "array = np.array([1, 2, 3])\n",
        "print(array * 2)"
      ],
      "metadata": {
        "id": "o5iHRVQ8MwX_"
      },
      "execution_count": null,
      "outputs": []
    },
    {
      "cell_type": "markdown",
      "source": [
        "Biblioteca Pandas\n",
        "\n",
        "O Pandas é uma biblioteca poderosa para manipulação e preparação de dados em Python. Com funções similares às encontradas em Excel ou SQL, o Pandas facilita a ordenação, filtragem, agrupamento e agregação de dados."
      ],
      "metadata": {
        "id": "1_bKk-SxMwez"
      }
    },
    {
      "cell_type": "code",
      "source": [
        "import pandas as pd\n",
        "df = pd.DataFrame({\"Nome\": [\"Ana\", \"João\"], \"Idade\": [28, 22]})\n",
        "print(df)"
      ],
      "metadata": {
        "id": "RUyHlFUYMwi7"
      },
      "execution_count": null,
      "outputs": []
    },
    {
      "cell_type": "markdown",
      "source": [
        "Gráficos com Matplotlib"
      ],
      "metadata": {
        "id": "ea-k0Ru3N2Zd"
      }
    },
    {
      "cell_type": "code",
      "source": [
        "import matplotlib.pyplot as plt\n",
        "plt.plot([1, 2, 3], [4, 5, 6])\n",
        "plt.show()"
      ],
      "metadata": {
        "colab": {
          "base_uri": "https://localhost:8080/",
          "height": 430
        },
        "id": "e5Ti0ykfN2r_",
        "outputId": "01139f6b-0a75-4587-c465-729ea4bffe91"
      },
      "execution_count": null,
      "outputs": [
        {
          "output_type": "display_data",
          "data": {
            "text/plain": [
              "<Figure size 640x480 with 1 Axes>"
            ],
            "image/png": "[encoded data removed]"
          },
          "metadata": {}
        }
      ]
    },
    {
      "cell_type": "markdown",
      "source": [
        "Requisições HTTP\n"
      ],
      "metadata": {
        "id": "meB6CtrJN2y6"
      }
    },
    {
      "cell_type": "code",
      "source": [
        "import requests\n",
        "res = requests.get(\"https://api.github.com\")\n",
        "print(res.status_code)\n"
      ],
      "metadata": {
        "colab": {
          "base_uri": "https://localhost:8080/"
        },
        "id": "OGxym2PpN25B",
        "outputId": "d4d90712-6726-41fd-841f-4f7f659758af"
      },
      "execution_count": null,
      "outputs": [
        {
          "output_type": "stream",
          "name": "stdout",
          "text": [
            "200\n"
          ]
        }
      ]
    },
    {
      "cell_type": "markdown",
      "source": [
        "Geradores"
      ],
      "metadata": {
        "id": "3k-u_LM0N2-w"
      }
    },
    {
      "cell_type": "code",
      "source": [
        "def contador():\n",
        "    for i in range(5):\n",
        "        yield i\n",
        "print(list(contador()))"
      ],
      "metadata": {
        "colab": {
          "base_uri": "https://localhost:8080/"
        },
        "id": "Wu603qxwN3Dp",
        "outputId": "d55fdb5c-ebe9-4a65-9ddd-07c8e09153bd"
      },
      "execution_count": null,
      "outputs": [
        {
          "output_type": "stream",
          "name": "stdout",
          "text": [
            "[0, 1, 2, 3, 4]\n"
          ]
        }
      ]
    },
    {
      "cell_type": "markdown",
      "source": [
        "Expressões Regulares"
      ],
      "metadata": {
        "id": "9z1f1yN8N3Jd"
      }
    },
    {
      "cell_type": "code",
      "source": [
        "import re\n",
        "padrao = re.search(r\"\\d+\", \"A123B\")\n",
        "print(padrao.group())  # Saída: 123"
      ],
      "metadata": {
        "id": "mXJRiv3KN3Nn"
      },
      "execution_count": null,
      "outputs": []
    },
    {
      "cell_type": "markdown",
      "source": [
        "Manipulação de JSON"
      ],
      "metadata": {
        "id": "IJAQXPpoN3SV"
      }
    },
    {
      "cell_type": "code",
      "source": [
        "import json\n",
        "dados = {\"nome\": \"Ana\", \"idade\": 25}\n",
        "print(json.dumps(dados))\n"
      ],
      "metadata": {
        "id": "3K4CPRpmOjvp"
      },
      "execution_count": null,
      "outputs": []
    }
  ]
}