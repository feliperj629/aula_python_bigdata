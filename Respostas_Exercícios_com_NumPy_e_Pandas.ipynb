{
  "nbformat": 4,
  "nbformat_minor": 0,
  "metadata": {
    "colab": {
      "provenance": []
    },
    "kernelspec": {
      "name": "python3",
      "display_name": "Python 3"
    },
    "language_info": {
      "name": "python"
    }
  },
  "cells": [
    {
      "cell_type": "markdown",
      "source": [
        "Exercício 1 — Análise de Array NumPy\n",
        "\n",
        "Você recebeu um array NumPy com os valores de temperatura (em °C) registrados ao longo de uma semana:\n",
        "\n",
        "\n",
        "\n",
        "1.   Calcule a temperatura média da semana.\n",
        "2.   Encontre a temperatura mais alta e a mais baixa.\n",
        "3.   Quantos dias ficaram acima da média?"
      ],
      "metadata": {
        "id": "RayTeZhiTvV5"
      }
    },
    {
      "cell_type": "code",
      "execution_count": null,
      "metadata": {
        "id": "Mq2vmr_ATucV"
      },
      "outputs": [],
      "source": [
        "import numpy as np\n",
        "temp = [22.5, 23.0, 19.5, 21.0, 25.2, 26.3, 24.5]\n",
        "temperaturas = np.array(temp)"
      ]
    },
    {
      "cell_type": "markdown",
      "source": [
        "**Solução do Exercício 1**"
      ],
      "metadata": {
        "id": "rEbXqBEnXMMs"
      }
    },
    {
      "cell_type": "code",
      "source": [
        "media = temperaturas.mean()\n",
        "print(media)\n",
        "print(round(media,2))"
      ],
      "metadata": {
        "colab": {
          "base_uri": "https://localhost:8080/"
        },
        "id": "guuDjTT-EbY9",
        "outputId": "c9197f6e-924d-4f25-a6c2-ab79806cdf01"
      },
      "execution_count": null,
      "outputs": [
        {
          "output_type": "stream",
          "name": "stdout",
          "text": [
            "23.142857142857142\n",
            "23.14\n"
          ]
        }
      ]
    },
    {
      "cell_type": "code",
      "source": [
        "media = temperaturas.mean()\n",
        "max_temp = temperaturas.max()\n",
        "min_temp = temperaturas.min()\n",
        "dias_acima_media = np.sum(temperaturas > media)\n",
        "\n",
        "print(f\"Média: {media:.2f}°C\")\n",
        "print(f\"Máxima: {max_temp}°C, Mínima: {min_temp}°C\")\n",
        "print(f\"Dias acima da média: {dias_acima_media}\")\n",
        "\n",
        "print(\"Média:\", round(media, 2), \"°C\")\n"
      ],
      "metadata": {
        "id": "FbOJRwMbXJN9",
        "colab": {
          "base_uri": "https://localhost:8080/"
        },
        "outputId": "6208c3b2-46f9-400b-c6b0-b9f3ae90de6a"
      },
      "execution_count": null,
      "outputs": [
        {
          "output_type": "stream",
          "name": "stdout",
          "text": [
            "Média: 23.14°C\n",
            "Máxima: 26.3°C, Mínima: 19.5°C\n",
            "Dias acima da média: 3\n",
            "Média: 23.14 °C\n"
          ]
        }
      ]
    },
    {
      "cell_type": "markdown",
      "source": [
        "Exercício 2 — Manipulando um DataFrame\n",
        "\n",
        "Crie um DataFrame com os dados de 5 alunos, contendo as colunas: nome, nota_prova1, nota_prova2.\n",
        "\n",
        "Depois:\n",
        "\n",
        "1. Calcule a média de cada aluno.\n",
        "\n",
        "2. Adicione uma nova coluna chamada aprovado, considerando média >= 7.\n",
        "\n",
        "3. Mostre apenas os alunos aprovados."
      ],
      "metadata": {
        "id": "RIb05c1eUPwz"
      }
    },
    {
      "cell_type": "markdown",
      "source": [],
      "metadata": {
        "id": "JA9iDW_u42dz"
      }
    },
    {
      "cell_type": "markdown",
      "source": [
        "**Solução do Exercício 2**\n",
        "\n"
      ],
      "metadata": {
        "id": "tLp-8yo2XXwy"
      }
    },
    {
      "cell_type": "code",
      "source": [
        "#Crie seu código do exercício 2 aqui.\n",
        "import pandas as pd\n",
        "\n",
        "dados = {\n",
        "    'nome': ['Ana', 'Bruno', 'Carla', 'Diego', 'Eva'],\n",
        "    'av1': [6.5, 7.0, 8.0, 5.5, 9.0],\n",
        "    'av2': [7.5, 6.0, 8.5, 6.0, 8.0]\n",
        "}\n",
        "\n",
        "df = pd.DataFrame(dados)\n",
        "df['media'] = (df['av1'] + df['av2']) / 2\n",
        "df['aprovado'] = df['media'] >= 7\n",
        "\n",
        "#Opção 1\n",
        "print(df[df['aprovado']])"
      ],
      "metadata": {
        "id": "cH8GZ3AgUa2m",
        "colab": {
          "base_uri": "https://localhost:8080/"
        },
        "outputId": "d0fecf6e-471f-4635-956a-386746e78fe3"
      },
      "execution_count": 1,
      "outputs": [
        {
          "output_type": "stream",
          "name": "stdout",
          "text": [
            "    nome  av1  av2  media  aprovado\n",
            "0    Ana  6.5  7.5   7.00      True\n",
            "2  Carla  8.0  8.5   8.25      True\n",
            "4    Eva  9.0  8.0   8.50      True\n"
          ]
        }
      ]
    },
    {
      "cell_type": "markdown",
      "source": [
        "Opção 2 - Filtrando alunos aprovados com .query()"
      ],
      "metadata": {
        "id": "HXzyNH6qZnPR"
      }
    },
    {
      "cell_type": "code",
      "source": [
        "#Opção 2\n",
        "# Filtrando alunos aprovados com .query()\n",
        "aprovados = df.query('aprovado == True')\n",
        "print(aprovados)"
      ],
      "metadata": {
        "colab": {
          "base_uri": "https://localhost:8080/"
        },
        "id": "-cB5Wn6PX6dk",
        "outputId": "3400c470-0334-4f71-a2a2-f02af7669e5a"
      },
      "execution_count": 8,
      "outputs": [
        {
          "output_type": "stream",
          "name": "stdout",
          "text": [
            "    nome  av1  av2  media  aprovado\n",
            "0    Ana  6.5  7.5   7.00      True\n",
            "2  Carla  8.0  8.5   8.25      True\n",
            "4    Eva  9.0  8.0   8.50      True\n"
          ]
        }
      ]
    },
    {
      "cell_type": "code",
      "source": [
        "#Ou, para uma versão mais simples:\n",
        "aprovados = df.query('aprovado')\n",
        "#print(aprovados)\n",
        "\n",
        "# Selecionando apenas nome e média dos aprovados\n",
        "aprovados = df.loc[df['aprovado'], ['nome', 'media']]\n",
        "print(aprovados)"
      ],
      "metadata": {
        "colab": {
          "base_uri": "https://localhost:8080/"
        },
        "id": "wQYn5RIW6oBV",
        "outputId": "1ad3ede6-2892-4b32-9381-dd84b922f93e"
      },
      "execution_count": 11,
      "outputs": [
        {
          "output_type": "stream",
          "name": "stdout",
          "text": [
            "    nome  media\n",
            "0    Ana   7.00\n",
            "2  Carla   8.25\n",
            "4    Eva   8.50\n"
          ]
        }
      ]
    },
    {
      "cell_type": "markdown",
      "source": [
        "Opção 3 - Filtrando alunos aprovados com .loc[]"
      ],
      "metadata": {
        "id": "-r_35aVAZuCd"
      }
    },
    {
      "cell_type": "code",
      "source": [
        "#Opção 3\n",
        "#Usando .loc[]\n",
        "#O .loc[] pode ser usado de maneira muito semelhante ao filtro com df[df['aprovado']], mas pode ser mais explícito.\n",
        "#aprovados = df.loc[df['aprovado'] == True]\n",
        "#print(aprovados)\n",
        "\n",
        "\n",
        "#Ou de maneira mais compacta, sem precisar comparar com True explicitamente:\n",
        "aprovados = df.loc[df['aprovado']]\n",
        "print(aprovados)\n"
      ],
      "metadata": {
        "colab": {
          "base_uri": "https://localhost:8080/"
        },
        "id": "MXOQsQwoZHEu",
        "outputId": "ff8bbb78-4bfb-43d4-8b0b-54749f67a906"
      },
      "execution_count": 16,
      "outputs": [
        {
          "output_type": "stream",
          "name": "stdout",
          "text": [
            "    nome  av1  av2  media  aprovado\n",
            "0    Ana  6.5  7.5   7.00      True\n",
            "2  Carla  8.0  8.5   8.25      True\n",
            "4    Eva  9.0  8.0   8.50      True\n"
          ]
        }
      ]
    },
    {
      "cell_type": "markdown",
      "source": [
        "Opção 4 - Se você quiser **percorrer o DataFrame manualmente** para buscar apenas os alunos aprovados, você pode usar um loop for para iterar sobre as linhas do DataFrame. Uma maneira simples de fazer isso é utilizando o método .iterrows(), que permite iterar sobre cada linha do DataFrame como uma tupla contendo o índice e os dados da linha."
      ],
      "metadata": {
        "id": "htZLWPLgZ3ER"
      }
    },
    {
      "cell_type": "code",
      "source": [
        "#Opção 4\n",
        "# Percorrendo o DataFrame para buscar apenas os aprovados\n",
        "\n",
        "aprovados = []\n",
        "\n",
        "for index, row in df.iterrows():\n",
        "    #  print('index:', index)\n",
        "    #  print('dados:', row)\n",
        "    #  print('*' * 50)\n",
        "     if row['aprovado']:  # Verifica se o aluno está aprovado\n",
        "        aprovados.append(row)\n",
        "\n",
        "# Criando um novo DataFrame com os aprovados\n",
        "df_aprovados = pd.DataFrame(aprovados)\n",
        "print('=' * 50)\n",
        "print(df_aprovados)\n",
        "\n"
      ],
      "metadata": {
        "colab": {
          "base_uri": "https://localhost:8080/"
        },
        "id": "pcykwg5AZhLq",
        "outputId": "062ff1c9-f170-4259-f167-c09f6b7eff79"
      },
      "execution_count": 19,
      "outputs": [
        {
          "output_type": "stream",
          "name": "stdout",
          "text": [
            "==================================================\n",
            "    nome  av1  av2  media  aprovado\n",
            "0    Ana  6.5  7.5   7.00      True\n",
            "2  Carla  8.0  8.5   8.25      True\n",
            "4    Eva  9.0  8.0   8.50      True\n"
          ]
        }
      ]
    },
    {
      "cell_type": "markdown",
      "source": [
        "**Exercício 3 — Estatísticas:**\n",
        "\n",
        "Você tem um DataFrame com dados de vendas:\n",
        "\n",
        "1. Calcule o total de vendas por produto.\n",
        "\n",
        "2. Qual foi o produto com maior valor médio de venda?\n",
        "\n",
        "3. Adicione uma coluna com o valor acumulado (cumulativo) por linha.\n"
      ],
      "metadata": {
        "id": "CZqQuZQsUelO"
      }
    },
    {
      "cell_type": "code",
      "source": [
        "#DataFrame com dados de vendas\n",
        "dados = {\n",
        "    'produto': ['A', 'B', 'A', 'C', 'B', 'A', 'C'],\n",
        "    'valor': [100, 200, 150, 300, 250, 120, 280]\n",
        "}"
      ],
      "metadata": {
        "id": "x_V5IG5eVO6I",
        "colab": {
          "base_uri": "https://localhost:8080/"
        },
        "outputId": "0bd59675-0ee1-490c-a7e0-7ce85d115cae"
      },
      "execution_count": 20,
      "outputs": [
        {
          "output_type": "execute_result",
          "data": {
            "text/plain": [
              "{'produto': ['A', 'B', 'A', 'C', 'B', 'A', 'C'],\n",
              " 'valor': [100, 200, 150, 300, 250, 120, 280]}"
            ]
          },
          "metadata": {},
          "execution_count": 20
        }
      ]
    },
    {
      "cell_type": "markdown",
      "source": [
        "**Solução do Exercício 3**"
      ],
      "metadata": {
        "id": "Nkd_sxZZXjfA"
      }
    },
    {
      "cell_type": "code",
      "source": [
        "df = pd.DataFrame(dados)\n",
        "# Total de vendas por produto\n",
        "total_por_produto = df.groupby('produto')['valor'].sum()\n",
        "#total_por_produto\n",
        "# Produto com maior média de venda\n",
        "media_por_produto = df.groupby('produto')['valor'].mean()\n",
        "print(media_por_produto)\n",
        "maior_media = media_por_produto.idxmax()\n",
        "print(maior_media)\n",
        "# Valor acumulado\n",
        "df['valor_acumulado'] = df['valor'].cumsum()\n",
        "\n",
        "print('Total de vendas por produto:')\n",
        "print(total_por_produto)\n",
        "\n",
        "print(f\"Produto com maior média: {maior_media}\")\n",
        "print(df)\n"
      ],
      "metadata": {
        "colab": {
          "base_uri": "https://localhost:8080/"
        },
        "id": "nt0ytMZaXlUS",
        "outputId": "d965a014-9af8-4b56-a321-3dfdb2aa089f"
      },
      "execution_count": 32,
      "outputs": [
        {
          "output_type": "stream",
          "name": "stdout",
          "text": [
            "produto\n",
            "A    123.333333\n",
            "B    225.000000\n",
            "C    290.000000\n",
            "Name: valor, dtype: float64\n",
            "C\n",
            "Total de vendas por produto:\n",
            "produto\n",
            "A    370\n",
            "B    450\n",
            "C    580\n",
            "Name: valor, dtype: int64\n",
            "Produto com maior média: C\n",
            "  produto  valor  valor_acumulado\n",
            "0       A    100              100\n",
            "1       B    200              300\n",
            "2       A    150              450\n",
            "3       C    300              750\n",
            "4       B    250             1000\n",
            "5       A    120             1120\n",
            "6       C    280             1400\n"
          ]
        }
      ]
    },
    {
      "cell_type": "markdown",
      "source": [
        "Exercício 4 — Gráfico de Barras com Pandas e Matplotlib\n",
        "\n",
        "Você recebeu os seguintes dados de vendas mensais de uma loja:\n",
        "\n",
        "1. Crie um gráfico de barras para exibir as vendas por mês.\n",
        "\n",
        "2. Adicione título, rótulos nos eixos e mude a cor das barras para vermelha."
      ],
      "metadata": {
        "id": "tbTpXkfMVonW"
      }
    },
    {
      "cell_type": "code",
      "source": [
        "#import pandas as pd\n",
        "#dados de vendas mensais de uma loja\n",
        "dados = {\n",
        "    'mes': ['Jan', 'Fev', 'Mar', 'Abr', 'Mai', 'Jun'],\n",
        "    'vendas': [1200, 1500, 1700, 1600, 1800, 2000]\n",
        "}\n",
        "\n",
        "df = pd.DataFrame(dados)\n"
      ],
      "metadata": {
        "id": "rOxL_lptVxWg"
      },
      "execution_count": 33,
      "outputs": []
    },
    {
      "cell_type": "markdown",
      "source": [
        "** Solução do Exercício 4**"
      ],
      "metadata": {
        "id": "YUeEbO6NbgMf"
      }
    },
    {
      "cell_type": "code",
      "source": [
        "import matplotlib.pyplot as plt\n",
        "\n",
        "# Criação do gráfico\n",
        "plt.figure(figsize=(8, 5)) #L/A\n",
        "plt.bar(df['mes'], df['vendas'], color='red')\n",
        "plt.title('Vendas Mensais')\n",
        "plt.xlabel('Mês')\n",
        "plt.ylabel('Valor em R$')\n",
        "plt.grid(axis='y', linestyle='--', alpha=0.5)\n",
        "\n",
        "# Exibindo o gráfico\n",
        "plt.show()\n"
      ],
      "metadata": {
        "colab": {
          "base_uri": "https://localhost:8080/",
          "height": 487
        },
        "id": "a6jsJ6hxbhmV",
        "outputId": "5cdd095a-bc3a-4294-cb84-e6b8ed85fd30"
      },
      "execution_count": 39,
      "outputs": [
        {
          "output_type": "display_data",
          "data": {
            "text/plain": [
              "<Figure size 800x500 with 1 Axes>"
            ],
            "image/png": "[encoded data removed]"
          },
          "metadata": {}
        }
      ]
    },
    {
      "cell_type": "code",
      "source": [
        "#Gerando o mesmo gráfico na horozontal\n",
        "#import matplotlib.pyplot as plt\n",
        "\n",
        "# Criação do gráfico de barras horizontal\n",
        "plt.figure(figsize=(8, 5))  # L/A\n",
        "plt.barh(df['mes'], df['vendas'], color='red')  # Usando \"barh\" para barras horizontais\n",
        "plt.title('Vendas Mensais')\n",
        "plt.xlabel('Valor em R$')  # O eixo X agora representa as vendas\n",
        "plt.ylabel('Mês')  # O eixo Y agora representa os meses\n",
        "plt.grid(axis='x', linestyle='--', alpha=0.5)  # Ajustando a grade para o eixo X\n",
        "\n",
        "# Exibindo o gráfico\n",
        "plt.show()"
      ],
      "metadata": {
        "colab": {
          "base_uri": "https://localhost:8080/",
          "height": 487
        },
        "id": "hDu4jKr2d-gP",
        "outputId": "41e4ce86-421e-4331-94ed-590ce8dd93c3"
      },
      "execution_count": 40,
      "outputs": [
        {
          "output_type": "display_data",
          "data": {
            "text/plain": [
              "<Figure size 800x500 with 1 Axes>"
            ],
            "image/png": "[encoded data removed]"
          },
          "metadata": {}
        }
      ]
    },
    {
      "cell_type": "markdown",
      "source": [
        "Exercício 5 — Salvando Aprovados em um Arquivo .txt\n",
        "\n",
        "1. Crie dados de 10 alunos e suas notas em **três avaliações** da disciplina de Programação Python.\n",
        "\n",
        "2. Calcule a **média das três notas** para cada aluno.\n",
        "\n",
        "3. Filtre os alunos com **média maior que 8**.\n",
        "\n",
        "4. Salve os nomes dos aprovados em um arquivo chamado aprovados.txt, um nome por linha. Ao lado do nome coloca a seguinte mensagem: \"Parabéns, você foi aprovado em Python.\"\n",
        "\n",
        "5. Leia o arquivo aprovados.txt e mostre os nomes dos aprovados com a mensagem.\n"
      ],
      "metadata": {
        "id": "SYz0Gcu0Zf0R"
      }
    },
    {
      "cell_type": "markdown",
      "source": [
        "**Solução do Exercício 5**"
      ],
      "metadata": {
        "id": "J38HLACubPRN"
      }
    },
    {
      "cell_type": "code",
      "source": [
        "import pandas as pd\n",
        "\n",
        "# 1. Criando os dados\n",
        "dados = {\n",
        "    'nome': ['Ana', 'Bruno', 'Carla', 'Diego', 'Eva', 'Felipe', 'Giulia', 'Heitor', 'Isabela', 'João'],\n",
        "    'nota1': [9.0, 7.5, 8.5, 6.0, 9.5, 8.2, 7.8, 8.8, 9.1, 7.0],\n",
        "    'nota2': [8.5, 6.5, 9.0, 7.0, 8.5, 8.0, 8.2, 9.0, 9.5, 7.5],\n",
        "    'nota3': [9.0, 8.0, 8.5, 7.0, 9.0, 9.0, 7.5, 8.7, 8.8, 6.5]\n",
        "}\n",
        "\n",
        "df = pd.DataFrame(dados)\n",
        "\n",
        "# 2. Calculando média\n",
        "df['media'] = df[['nota1', 'nota2', 'nota3']].mean(axis=1)\n",
        "\n",
        "#df['media2'] = (df['nota1'] + df['nota2'] + df['nota3']) / 3\n",
        "# print(df)\n",
        "\n",
        "# print('*'*50)\n",
        "# 3. Filtrando aprovados\n",
        "aprovados = df[df['media'] > 8]\n",
        "# print(aprovados)\n",
        "# print('*'*50)\n",
        "\n",
        "# 4. Salvando nomes com mensagem personalizada\n",
        "mensagem = \"Parabéns, você foi aprovado em Python.\"\n",
        "with open('aprovados.txt', 'w') as f:\n",
        "    for nome in aprovados['nome']:\n",
        "        f.write(f\"{nome} - {mensagem}\\n\")\n",
        "\n",
        "# 5. Lendo e mostrando os aprovados com mensagem\n",
        "with open('aprovados.txt', 'r') as f:\n",
        "    print(\"Mensagens para aprovados:\")\n",
        "    for linha in f:\n",
        "        print(linha.strip())\n",
        "\n"
      ],
      "metadata": {
        "colab": {
          "base_uri": "https://localhost:8080/"
        },
        "id": "gxizfUyHZk00",
        "outputId": "c283c806-cc01-462a-ad1b-42b749fdd1b3"
      },
      "execution_count": null,
      "outputs": [
        {
          "output_type": "stream",
          "name": "stdout",
          "text": [
            "Mensagens para aprovados:\n",
            "Ana - Parabéns, você foi aprovado em Python.\n",
            "Carla - Parabéns, você foi aprovado em Python.\n",
            "Eva - Parabéns, você foi aprovado em Python.\n",
            "Felipe - Parabéns, você foi aprovado em Python.\n",
            "Heitor - Parabéns, você foi aprovado em Python.\n",
            "Isabela - Parabéns, você foi aprovado em Python.\n"
          ]
        }
      ]
    }
  ]
}